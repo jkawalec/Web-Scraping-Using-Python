{
 "cells": [
  {
   "cell_type": "code",
   "execution_count": 1,
   "metadata": {},
   "outputs": [],
   "source": [
    "# start by importing the libraries\n",
    "from bs4 import BeautifulSoup as bs\n",
    "import requests\n",
    "import smtplib\n",
    "import time\n",
    "import datetime"
   ]
  },
  {
   "cell_type": "code",
   "execution_count": 2,
   "metadata": {},
   "outputs": [
    {
     "name": "stdout",
     "output_type": "stream",
     "text": [
      "\n",
      "            SAMSUNG 55-Inch Class Crystal UHD AU8000 Series - 4K UHD HDR Smart TV with Alexa Built-in (UN55AU8000FXZA, 2021 Model)\n",
      "           \n",
      "\n",
      "               $597.99\n",
      "              \n"
     ]
    }
   ],
   "source": [
    "# Connect to Website\n",
    "\n",
    "url = 'https://www.amazon.com/SAMSUNG-55-Inch-Crystal-AU8000-Built/dp/B08Z21BBWK?ref_=Oct_d_onr_d_172659&pd_rd_w=gXlr1&pf_rd_p=f2b556d9-2905-446e-a142-cdce50e9497c&pf_rd_r=SJP2GP3ETTXAW7JH754J&pd_rd_r=d8c22561-2605-4a11-95c7-64c13cfaf930&pd_rd_wg=x6fDJ&pd_rd_i=B08Z21BBWK'\n",
    "headers = {\"User-Agent\": \"Mozilla/5.0 (Windows NT 10.0; Win64; x64) AppleWebKit/537.36 (KHTML, like Gecko) Chrome/78.0.3904.108 Safari/537.36\", \"Accept-Encoding\":\"gzip, deflate\", \"Accept\":\"text/html,application/xhtml+xml,application/xml;q=0.9,*/*;q=0.8\", \"DNT\":\"1\",\"Connection\":\"close\", \"Upgrade-Insecure-Requests\":\"1\"}\n",
    "\n",
    "page = requests.get(url,headers=headers)\n",
    "\n",
    "soup1 = bs(page.content, \"html.parser\")\n",
    "\n",
    "soup2 = bs(soup1.prettify(), \"html.parser\")\n",
    "\n",
    "title = soup2.find(id='productTitle').get_text()\n",
    "\n",
    "price = soup2.find(id='priceblock_ourprice').get_text()\n",
    "\n",
    "print(title) \n",
    "print(price)"
   ]
  },
  {
   "cell_type": "code",
   "execution_count": 3,
   "metadata": {},
   "outputs": [
    {
     "name": "stdout",
     "output_type": "stream",
     "text": [
      "SAMSUNG 55-Inch Class Crystal UHD AU8000 Series - 4K UHD HDR Smart TV with Alexa Built-in (UN55AU8000FXZA, 2021 Model)\n",
      "597.99\n"
     ]
    }
   ],
   "source": [
    "# clean the name and price by removing the spaces around each\n",
    "price = price.strip()[1:]\n",
    "title = title.strip()\n",
    "\n",
    "print(title)\n",
    "print(price)\n"
   ]
  },
  {
   "cell_type": "code",
   "execution_count": 4,
   "metadata": {},
   "outputs": [
    {
     "name": "stdout",
     "output_type": "stream",
     "text": [
      "2021-10-03\n"
     ]
    }
   ],
   "source": [
    "# make a column to show the date that you scrape the website\n",
    "today = datetime.date.today()\n",
    "print(today)"
   ]
  },
  {
   "cell_type": "code",
   "execution_count": 5,
   "metadata": {},
   "outputs": [],
   "source": [
    "# create csv and create headers and data into the file\n",
    "import csv\n",
    "\n",
    "header = ['title', 'price','Date']\n",
    "data = [title, price,today]\n",
    "\n",
    "with open('Amazontv.csv','w',newline='',encoding='UTF8') as f:\n",
    "    writer = csv.writer(f)\n",
    "    writer.writerow(header)\n",
    "    writer.writerow(data)"
   ]
  },
  {
   "cell_type": "code",
   "execution_count": 6,
   "metadata": {},
   "outputs": [
    {
     "name": "stdout",
     "output_type": "stream",
     "text": [
      "                                               title   price        Date\n",
      "0  SAMSUNG 55-Inch Class Crystal UHD AU8000 Serie...  597.99  2021-10-03\n"
     ]
    }
   ],
   "source": [
    "import pandas as pd\n",
    "\n",
    "df = pd.read_csv('Amazontv.csv')\n",
    "print(df)"
   ]
  },
  {
   "cell_type": "code",
   "execution_count": 7,
   "metadata": {},
   "outputs": [],
   "source": [
    "# we are apending data to the csv\n",
    "with open('Amazontv.csv','a+',newline='',encoding='UTF8') as f:\n",
    "    writer = csv.writer(f)\n",
    "    writer.writerow(data)"
   ]
  },
  {
   "cell_type": "code",
   "execution_count": 8,
   "metadata": {},
   "outputs": [],
   "source": [
    "# combine all the code into one function\n",
    "def check_price():\n",
    "    url = 'https://www.amazon.com/SAMSUNG-55-Inch-Crystal-AU8000-Built/dp/B08Z21BBWK?ref_=Oct_d_onr_d_172659&pd_rd_w=gXlr1&pf_rd_p=f2b556d9-2905-446e-a142-cdce50e9497c&pf_rd_r=SJP2GP3ETTXAW7JH754J&pd_rd_r=d8c22561-2605-4a11-95c7-64c13cfaf930&pd_rd_wg=x6fDJ&pd_rd_i=B08Z21BBWK'\n",
    "\n",
    "    headers = {\"User-Agent\": \"Mozilla/5.0 (Windows NT 10.0; Win64; x64) AppleWebKit/537.36 (KHTML, like Gecko) Chrome/78.0.3904.108 Safari/537.36\", \"Accept-Encoding\":\"gzip, deflate\", \"Accept\":\"text/html,application/xhtml+xml,application/xml;q=0.9,*/*;q=0.8\", \"DNT\":\"1\",\"Connection\":\"close\", \"Upgrade-Insecure-Requests\":\"1\"}\n",
    "\n",
    "    page = requests.get(url,headers=headers)\n",
    "\n",
    "    soup1 = bs(page.content, \"html.parser\")\n",
    "\n",
    "    soup2 = bs(soup1.prettify(), \"html.parser\")\n",
    "\n",
    "    title = soup2.find(id='productTitle').get_text()\n",
    "\n",
    "    price = soup2.find(id='priceblock_ourprice').get_text()\n",
    "    \n",
    "    price = price.strip()[1:]\n",
    "    title = title.strip()\n",
    "    \n",
    "    import datetime\n",
    "    \n",
    "    today = datetime.date.today()\n",
    "    \n",
    "    import csv\n",
    "    \n",
    "    header = ['Title','Price','Date']\n",
    "    data = [title,price,today]\n",
    "    \n",
    "    with open('Amazonshirt.csv','a+',newline='',encoding='UTF8') as f:\n",
    "        writer = csv.writer(f)\n",
    "        writer.writerow(data)\n",
    "        \n",
    "   \n",
    "        \n",
    " "
   ]
  },
  {
   "cell_type": "code",
   "execution_count": null,
   "metadata": {},
   "outputs": [],
   "source": [
    "# runs the check price after a set amount of time\n",
    "# I set it to one day\n",
    "while(True):\n",
    "    check_price()\n",
    "    time.sleep(8600)"
   ]
  },
  {
   "cell_type": "code",
   "execution_count": 9,
   "metadata": {},
   "outputs": [
    {
     "name": "stdout",
     "output_type": "stream",
     "text": [
      "                                               title   price        Date\n",
      "0  SAMSUNG 55-Inch Class Crystal UHD AU8000 Serie...  597.99  2021-10-03\n",
      "1  SAMSUNG 55-Inch Class Crystal UHD AU8000 Serie...  597.99  2021-10-03\n"
     ]
    }
   ],
   "source": [
    "import pandas as pd\n",
    "\n",
    "df = pd.read_csv('Amazontv.csv')\n",
    "print(df)"
   ]
  }
 ],
 "metadata": {
  "kernelspec": {
   "display_name": "Python 3",
   "language": "python",
   "name": "python3"
  },
  "language_info": {
   "codemirror_mode": {
    "name": "ipython",
    "version": 3
   },
   "file_extension": ".py",
   "mimetype": "text/x-python",
   "name": "python",
   "nbconvert_exporter": "python",
   "pygments_lexer": "ipython3",
   "version": "3.8.5"
  }
 },
 "nbformat": 4,
 "nbformat_minor": 4
}
